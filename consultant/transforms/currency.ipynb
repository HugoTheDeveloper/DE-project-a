{
 "cells": [
  {
   "cell_type": "code",
   "execution_count": 8,
   "metadata": {},
   "outputs": [
    {
     "data": {
      "text/html": [
       "\n",
       "            <div>\n",
       "                <p><b>SparkSession - hive</b></p>\n",
       "                \n",
       "        <div>\n",
       "            <p><b>SparkContext</b></p>\n",
       "\n",
       "            <p><a href=\"http://rc1a-dataproc-d-axqtaawa23zwipk0.mdb.yandexcloud.net:4040\">Spark UI</a></p>\n",
       "\n",
       "            <dl>\n",
       "              <dt>Version</dt>\n",
       "                <dd><code>v3.0.3</code></dd>\n",
       "              <dt>Master</dt>\n",
       "                <dd><code>yarn</code></dd>\n",
       "              <dt>AppName</dt>\n",
       "                <dd><code>cbr_currency_etl</code></dd>\n",
       "            </dl>\n",
       "        </div>\n",
       "        \n",
       "            </div>\n",
       "        "
      ],
      "text/plain": [
       "<pyspark.sql.session.SparkSession at 0x7fa870e95fa0>"
      ]
     },
     "execution_count": 8,
     "metadata": {},
     "output_type": "execute_result"
    }
   ],
   "source": [
    "from pyspark.sql import SparkSession\n",
    "from pyspark.sql.functions  import *\n",
    "\n",
    "from dotenv import load_dotenv\n",
    "import sys\n",
    "import os\n",
    "import datetime\n",
    "# Добавляем корневую директорию проекта в sys.path\n",
    "sys.path.append(os.path.abspath(os.path.join(os.getcwd(), '../..')))\n",
    "\n",
    "from consultant.tools.basic import normalize_path\n",
    "\n",
    "load_dotenv()\n",
    "\n",
    "spark = (SparkSession.builder\n",
    "         .appName(\"cbr_currency_etl\")\n",
    "         .getOrCreate())\n",
    "\n",
    "spark"
   ]
  },
  {
   "cell_type": "code",
   "execution_count": 9,
   "metadata": {},
   "outputs": [
    {
     "name": "stderr",
     "output_type": "stream",
     "text": [
      "/home/b.kustov/.local/lib/python3.8/site-packages/pyspark/sql/session.py:381: UserWarning: inferring schema from dict is deprecated,please use pyspark.sql.Row instead\n",
      "  warnings.warn(\"inferring schema from dict is deprecated,\"\n"
     ]
    },
    {
     "name": "stdout",
     "output_type": "stream",
     "text": [
      "+--------+-------+----------------------------------------+-------+-------+--------+--------+\n",
      "|CharCode|ID     |Name                                    |Nominal|NumCode|Previous|Value   |\n",
      "+--------+-------+----------------------------------------+-------+-------+--------+--------+\n",
      "|AUD     |R01010 |Австралийский доллар                    |1      |036    |65.8247 |66.7047 |\n",
      "|AZN     |R01020A|Азербайджанский манат                   |1      |944    |60.7475 |61.1471 |\n",
      "|GBP     |R01035 |Фунт стерлингов Соединенного королевства|1      |826    |131.5462|132.4739|\n",
      "|AMD     |R01060 |Армянских драмов                        |100    |051    |26.1876 |26.3625 |\n",
      "|BYN     |R01090B|Белорусский рубль                       |1      |933    |29.885  |29.8278 |\n",
      "|BGN     |R01100 |Болгарский лев                          |1      |975    |55.584  |55.8436 |\n",
      "|BRL     |R01115 |Бразильский реал                        |1      |986    |17.0622 |17.2339 |\n",
      "|HUF     |R01135 |Венгерских форинтов                     |100    |348    |26.3897 |26.6573 |\n",
      "|VND     |R01150 |Вьетнамских донгов                      |10000  |704    |42.5806 |42.8501 |\n",
      "|HKD     |R01200 |Гонконгский доллар                      |1      |344    |13.3098 |13.3922 |\n",
      "|GEL     |R01210 |Грузинский лари                         |1      |981    |36.9563 |36.7016 |\n",
      "|DKK     |R01215 |Датская крона                           |1      |208    |14.5772 |14.6458 |\n",
      "|AED     |R01230 |Дирхам ОАЭ                              |1      |784    |28.12   |28.305  |\n",
      "|USD     |R01235 |Доллар США                              |1      |840    |103.2707|103.95  |\n",
      "|EUR     |R01239 |Евро                                    |1      |978    |108.5588|110.4804|\n",
      "|EGP     |R01240 |Египетских фунтов                       |10     |818    |20.4656 |20.5214 |\n",
      "|INR     |R01270 |Индийских рупий                         |10     |356    |12.172  |12.2477 |\n",
      "|IDR     |R01280 |Индонезийских рупий                     |10000  |360    |65.0565 |65.3568 |\n",
      "|KZT     |R01335 |Казахстанских тенге                     |100    |398    |20.3269 |20.1091 |\n",
      "|CAD     |R01350 |Канадский доллар                        |1      |124    |72.8952 |73.4421 |\n",
      "|QAR     |R01355 |Катарский риал                          |1      |634    |28.3711 |28.5577 |\n",
      "|KGS     |R01370 |Киргизских сомов                        |10     |417    |11.8975 |11.9758 |\n",
      "|CNY     |R01375 |Китайский юань                          |1      |156    |13.8539 |13.9594 |\n",
      "|MDL     |R01500 |Молдавских леев                         |10     |498    |56.3342 |56.762  |\n",
      "|NZD     |R01530 |Новозеландский доллар                   |1      |554    |59.8918 |60.2858 |\n",
      "|NOK     |R01535 |Норвежских крон                         |10     |578    |92.6677 |93.2546 |\n",
      "|PLN     |R01565 |Польский злотый                         |1      |985    |25.4186 |25.5155 |\n",
      "|RON     |R01585F|Румынский лей                           |1      |946    |21.8156 |21.9619 |\n",
      "|XDR     |R01589 |СДР (специальные права заимствования)   |1      |960    |135.8072|136.5321|\n",
      "|SGD     |R01625 |Сингапурский доллар                     |1      |702    |77.0045 |77.3553 |\n",
      "|TJS     |R01670 |Таджикских сомони                       |10     |972    |94.4682 |95.0652 |\n",
      "|THB     |R01675 |Таиландских батов                       |10     |764    |30.5824 |30.7126 |\n",
      "|TRY     |R01700J|Турецких лир                            |10     |949    |29.6661 |29.8414 |\n",
      "|TMT     |R01710A|Новый туркменский манат                 |1      |934    |29.5059 |29.7    |\n",
      "|UZS     |R01717 |Узбекских сумов                         |10000  |860    |80.2164 |80.7965 |\n",
      "|UAH     |R01720 |Украинских гривен                       |10     |980    |24.8176 |24.9316 |\n",
      "|CZK     |R01760 |Чешских крон                            |10     |203    |43.2892 |43.4937 |\n",
      "|SEK     |R01770 |Шведских крон                           |10     |752    |94.2585 |94.8381 |\n",
      "|CHF     |R01775 |Швейцарский франк                       |1      |756    |116.7692|117.1928|\n",
      "|RSD     |R01805F|Сербских динаров                        |100    |941    |92.9344 |93.4109 |\n",
      "|ZAR     |R01810 |Южноафриканских рэндов                  |10     |710    |57.7703 |58.8279 |\n",
      "|KRW     |R01815 |Вон Республики Корея                    |1000   |410    |72.3134 |72.6212 |\n",
      "|JPY     |R01820 |Японских иен                            |100    |392    |68.0308 |68.2534 |\n",
      "+--------+-------+----------------------------------------+-------+-------+--------+--------+\n",
      "\n"
     ]
    }
   ],
   "source": [
    "from consultant.extractors.base import get_cbr_currency_rate_json\n",
    "\n",
    "\n",
    "currency_list = list(get_cbr_currency_rate_json()['Valute'].values())\n",
    "\n",
    "raw_currency = spark.createDataFrame(currency_list)\n",
    "raw_currency.show(100, truncate=False)"
   ]
  },
  {
   "cell_type": "code",
   "execution_count": 10,
   "metadata": {},
   "outputs": [
    {
     "name": "stdout",
     "output_type": "stream",
     "text": [
      "+--------+-------+--------+--------------------+-----------+\n",
      "|CharCode|Nominal|Value   |VunitRate           |ValCursDate|\n",
      "+--------+-------+--------+--------------------+-----------+\n",
      "|AUD     |1      |66.7047 |66.7047             |2024-12-13 |\n",
      "|AZN     |1      |61.1471 |61.1471             |2024-12-13 |\n",
      "|GBP     |1      |132.4739|132.4739            |2024-12-13 |\n",
      "|AMD     |100    |26.3625 |0.263625            |2024-12-13 |\n",
      "|BYN     |1      |29.8278 |29.8278             |2024-12-13 |\n",
      "|BGN     |1      |55.8436 |55.8436             |2024-12-13 |\n",
      "|BRL     |1      |17.2339 |17.2339             |2024-12-13 |\n",
      "|HUF     |100    |26.6573 |0.266573            |2024-12-13 |\n",
      "|VND     |10000  |42.8501 |0.00428501          |2024-12-13 |\n",
      "|HKD     |1      |13.3922 |13.3922             |2024-12-13 |\n",
      "|GEL     |1      |36.7016 |36.7016             |2024-12-13 |\n",
      "|DKK     |1      |14.6458 |14.6458             |2024-12-13 |\n",
      "|AED     |1      |28.305  |28.305              |2024-12-13 |\n",
      "|USD     |1      |103.95  |103.95              |2024-12-13 |\n",
      "|EUR     |1      |110.4804|110.4804            |2024-12-13 |\n",
      "|EGP     |10     |20.5214 |2.05214             |2024-12-13 |\n",
      "|INR     |10     |12.2477 |1.22477             |2024-12-13 |\n",
      "|IDR     |10000  |65.3568 |0.00653568          |2024-12-13 |\n",
      "|KZT     |100    |20.1091 |0.20109100000000002 |2024-12-13 |\n",
      "|CAD     |1      |73.4421 |73.4421             |2024-12-13 |\n",
      "|QAR     |1      |28.5577 |28.5577             |2024-12-13 |\n",
      "|KGS     |10     |11.9758 |1.1975799999999999  |2024-12-13 |\n",
      "|CNY     |1      |13.9594 |13.9594             |2024-12-13 |\n",
      "|MDL     |10     |56.762  |5.6762              |2024-12-13 |\n",
      "|NZD     |1      |60.2858 |60.2858             |2024-12-13 |\n",
      "|NOK     |10     |93.2546 |9.32546             |2024-12-13 |\n",
      "|PLN     |1      |25.5155 |25.5155             |2024-12-13 |\n",
      "|RON     |1      |21.9619 |21.9619             |2024-12-13 |\n",
      "|XDR     |1      |136.5321|136.5321            |2024-12-13 |\n",
      "|SGD     |1      |77.3553 |77.3553             |2024-12-13 |\n",
      "|TJS     |10     |95.0652 |9.50652             |2024-12-13 |\n",
      "|THB     |10     |30.7126 |3.0712599999999997  |2024-12-13 |\n",
      "|TRY     |10     |29.8414 |2.98414             |2024-12-13 |\n",
      "|TMT     |1      |29.7    |29.7                |2024-12-13 |\n",
      "|UZS     |10000  |80.7965 |0.008079649999999999|2024-12-13 |\n",
      "|UAH     |10     |24.9316 |2.49316             |2024-12-13 |\n",
      "|CZK     |10     |43.4937 |4.3493699999999995  |2024-12-13 |\n",
      "|SEK     |10     |94.8381 |9.48381             |2024-12-13 |\n",
      "|CHF     |1      |117.1928|117.1928            |2024-12-13 |\n",
      "|RSD     |100    |93.4109 |0.934109            |2024-12-13 |\n",
      "|ZAR     |10     |58.8279 |5.88279             |2024-12-13 |\n",
      "|KRW     |1000   |72.6212 |0.0726212           |2024-12-13 |\n",
      "|JPY     |100    |68.2534 |0.682534            |2024-12-13 |\n",
      "+--------+-------+--------+--------------------+-----------+\n",
      "\n"
     ]
    }
   ],
   "source": [
    "prepared_currency = raw_currency \\\n",
    "    .withColumn('VunitRate', col('Value') / col('Nominal')) \\\n",
    "    .withColumn('ValCursDate', lit(datetime.date.today())) \\\n",
    "    .select(['CharCode', 'Nominal', 'Value', 'VunitRate', 'ValCursDate'])\n",
    "prepared_currency.show(100, truncate=False)"
   ]
  },
  {
   "cell_type": "code",
   "execution_count": 27,
   "metadata": {},
   "outputs": [
    {
     "ename": "Py4JError",
     "evalue": "An error occurred while calling o204.mode. Trace:\npy4j.Py4JException: Method mode([class java.util.HashMap]) does not exist\n\tat py4j.reflection.ReflectionEngine.getMethod(ReflectionEngine.java:318)\n\tat py4j.reflection.ReflectionEngine.getMethod(ReflectionEngine.java:326)\n\tat py4j.Gateway.invoke(Gateway.java:274)\n\tat py4j.commands.AbstractCommand.invokeMethod(AbstractCommand.java:132)\n\tat py4j.commands.CallCommand.execute(CallCommand.java:79)\n\tat py4j.GatewayConnection.run(GatewayConnection.java:238)\n\tat java.lang.Thread.run(Thread.java:750)\n\n",
     "output_type": "error",
     "traceback": [
      "\u001b[0;31m---------------------------------------------------------------------------\u001b[0m",
      "\u001b[0;31mPy4JError\u001b[0m                                 Traceback (most recent call last)",
      "\u001b[0;32m<ipython-input-27-8b21a80a0bdb>\u001b[0m in \u001b[0;36m<module>\u001b[0;34m\u001b[0m\n\u001b[1;32m     11\u001b[0m \u001b[0;31m# print(get_jdbc_url_for_gp())\u001b[0m\u001b[0;34m\u001b[0m\u001b[0;34m\u001b[0m\u001b[0;34m\u001b[0m\u001b[0m\n\u001b[1;32m     12\u001b[0m \u001b[0;34m\u001b[0m\u001b[0m\n\u001b[0;32m---> 13\u001b[0;31m prepared_currency.write.mode('overwrite').jdbc(\n\u001b[0m\u001b[1;32m     14\u001b[0m     \u001b[0mget_jdbc_url_for_gp\u001b[0m\u001b[0;34m(\u001b[0m\u001b[0;34m)\u001b[0m\u001b[0;34m,\u001b[0m\u001b[0;34m\u001b[0m\u001b[0;34m\u001b[0m\u001b[0m\n\u001b[1;32m     15\u001b[0m     \u001b[0;34m'b.kustov.currency_rate'\u001b[0m\u001b[0;34m,\u001b[0m\u001b[0;34m\u001b[0m\u001b[0;34m\u001b[0m\u001b[0m\n",
      "\u001b[0;32m~/.local/lib/python3.8/site-packages/pyspark/sql/readwriter.py\u001b[0m in \u001b[0;36mjdbc\u001b[0;34m(self, url, table, mode, properties)\u001b[0m\n\u001b[1;32m   1083\u001b[0m         \u001b[0;32mfor\u001b[0m \u001b[0mk\u001b[0m \u001b[0;32min\u001b[0m \u001b[0mproperties\u001b[0m\u001b[0;34m:\u001b[0m\u001b[0;34m\u001b[0m\u001b[0;34m\u001b[0m\u001b[0m\n\u001b[1;32m   1084\u001b[0m             \u001b[0mjprop\u001b[0m\u001b[0;34m.\u001b[0m\u001b[0msetProperty\u001b[0m\u001b[0;34m(\u001b[0m\u001b[0mk\u001b[0m\u001b[0;34m,\u001b[0m \u001b[0mproperties\u001b[0m\u001b[0;34m[\u001b[0m\u001b[0mk\u001b[0m\u001b[0;34m]\u001b[0m\u001b[0;34m)\u001b[0m\u001b[0;34m\u001b[0m\u001b[0;34m\u001b[0m\u001b[0m\n\u001b[0;32m-> 1085\u001b[0;31m         \u001b[0mself\u001b[0m\u001b[0;34m.\u001b[0m\u001b[0mmode\u001b[0m\u001b[0;34m(\u001b[0m\u001b[0mmode\u001b[0m\u001b[0;34m)\u001b[0m\u001b[0;34m.\u001b[0m\u001b[0m_jwrite\u001b[0m\u001b[0;34m.\u001b[0m\u001b[0mjdbc\u001b[0m\u001b[0;34m(\u001b[0m\u001b[0murl\u001b[0m\u001b[0;34m,\u001b[0m \u001b[0mtable\u001b[0m\u001b[0;34m,\u001b[0m \u001b[0mjprop\u001b[0m\u001b[0;34m)\u001b[0m\u001b[0;34m\u001b[0m\u001b[0;34m\u001b[0m\u001b[0m\n\u001b[0m\u001b[1;32m   1086\u001b[0m \u001b[0;34m\u001b[0m\u001b[0m\n\u001b[1;32m   1087\u001b[0m \u001b[0;34m\u001b[0m\u001b[0m\n",
      "\u001b[0;32m~/.local/lib/python3.8/site-packages/pyspark/sql/readwriter.py\u001b[0m in \u001b[0;36mmode\u001b[0;34m(self, saveMode)\u001b[0m\n\u001b[1;32m    668\u001b[0m         \u001b[0;31m# So, if the given saveMode is None, we will not call JVM-side's mode method.\u001b[0m\u001b[0;34m\u001b[0m\u001b[0;34m\u001b[0m\u001b[0;34m\u001b[0m\u001b[0m\n\u001b[1;32m    669\u001b[0m         \u001b[0;32mif\u001b[0m \u001b[0msaveMode\u001b[0m \u001b[0;32mis\u001b[0m \u001b[0;32mnot\u001b[0m \u001b[0;32mNone\u001b[0m\u001b[0;34m:\u001b[0m\u001b[0;34m\u001b[0m\u001b[0;34m\u001b[0m\u001b[0m\n\u001b[0;32m--> 670\u001b[0;31m             \u001b[0mself\u001b[0m\u001b[0;34m.\u001b[0m\u001b[0m_jwrite\u001b[0m \u001b[0;34m=\u001b[0m \u001b[0mself\u001b[0m\u001b[0;34m.\u001b[0m\u001b[0m_jwrite\u001b[0m\u001b[0;34m.\u001b[0m\u001b[0mmode\u001b[0m\u001b[0;34m(\u001b[0m\u001b[0msaveMode\u001b[0m\u001b[0;34m)\u001b[0m\u001b[0;34m\u001b[0m\u001b[0;34m\u001b[0m\u001b[0m\n\u001b[0m\u001b[1;32m    671\u001b[0m         \u001b[0;32mreturn\u001b[0m \u001b[0mself\u001b[0m\u001b[0;34m\u001b[0m\u001b[0;34m\u001b[0m\u001b[0m\n\u001b[1;32m    672\u001b[0m \u001b[0;34m\u001b[0m\u001b[0m\n",
      "\u001b[0;32m~/.local/lib/python3.8/site-packages/py4j/java_gateway.py\u001b[0m in \u001b[0;36m__call__\u001b[0;34m(self, *args)\u001b[0m\n\u001b[1;32m   1302\u001b[0m \u001b[0;34m\u001b[0m\u001b[0m\n\u001b[1;32m   1303\u001b[0m         \u001b[0manswer\u001b[0m \u001b[0;34m=\u001b[0m \u001b[0mself\u001b[0m\u001b[0;34m.\u001b[0m\u001b[0mgateway_client\u001b[0m\u001b[0;34m.\u001b[0m\u001b[0msend_command\u001b[0m\u001b[0;34m(\u001b[0m\u001b[0mcommand\u001b[0m\u001b[0;34m)\u001b[0m\u001b[0;34m\u001b[0m\u001b[0;34m\u001b[0m\u001b[0m\n\u001b[0;32m-> 1304\u001b[0;31m         return_value = get_return_value(\n\u001b[0m\u001b[1;32m   1305\u001b[0m             answer, self.gateway_client, self.target_id, self.name)\n\u001b[1;32m   1306\u001b[0m \u001b[0;34m\u001b[0m\u001b[0m\n",
      "\u001b[0;32m~/.local/lib/python3.8/site-packages/pyspark/sql/utils.py\u001b[0m in \u001b[0;36mdeco\u001b[0;34m(*a, **kw)\u001b[0m\n\u001b[1;32m    126\u001b[0m     \u001b[0;32mdef\u001b[0m \u001b[0mdeco\u001b[0m\u001b[0;34m(\u001b[0m\u001b[0;34m*\u001b[0m\u001b[0ma\u001b[0m\u001b[0;34m,\u001b[0m \u001b[0;34m**\u001b[0m\u001b[0mkw\u001b[0m\u001b[0;34m)\u001b[0m\u001b[0;34m:\u001b[0m\u001b[0;34m\u001b[0m\u001b[0;34m\u001b[0m\u001b[0m\n\u001b[1;32m    127\u001b[0m         \u001b[0;32mtry\u001b[0m\u001b[0;34m:\u001b[0m\u001b[0;34m\u001b[0m\u001b[0;34m\u001b[0m\u001b[0m\n\u001b[0;32m--> 128\u001b[0;31m             \u001b[0;32mreturn\u001b[0m \u001b[0mf\u001b[0m\u001b[0;34m(\u001b[0m\u001b[0;34m*\u001b[0m\u001b[0ma\u001b[0m\u001b[0;34m,\u001b[0m \u001b[0;34m**\u001b[0m\u001b[0mkw\u001b[0m\u001b[0;34m)\u001b[0m\u001b[0;34m\u001b[0m\u001b[0;34m\u001b[0m\u001b[0m\n\u001b[0m\u001b[1;32m    129\u001b[0m         \u001b[0;32mexcept\u001b[0m \u001b[0mpy4j\u001b[0m\u001b[0;34m.\u001b[0m\u001b[0mprotocol\u001b[0m\u001b[0;34m.\u001b[0m\u001b[0mPy4JJavaError\u001b[0m \u001b[0;32mas\u001b[0m \u001b[0me\u001b[0m\u001b[0;34m:\u001b[0m\u001b[0;34m\u001b[0m\u001b[0;34m\u001b[0m\u001b[0m\n\u001b[1;32m    130\u001b[0m             \u001b[0mconverted\u001b[0m \u001b[0;34m=\u001b[0m \u001b[0mconvert_exception\u001b[0m\u001b[0;34m(\u001b[0m\u001b[0me\u001b[0m\u001b[0;34m.\u001b[0m\u001b[0mjava_exception\u001b[0m\u001b[0;34m)\u001b[0m\u001b[0;34m\u001b[0m\u001b[0;34m\u001b[0m\u001b[0m\n",
      "\u001b[0;32m~/.local/lib/python3.8/site-packages/py4j/protocol.py\u001b[0m in \u001b[0;36mget_return_value\u001b[0;34m(answer, gateway_client, target_id, name)\u001b[0m\n\u001b[1;32m    328\u001b[0m                     format(target_id, \".\", name), value)\n\u001b[1;32m    329\u001b[0m             \u001b[0;32melse\u001b[0m\u001b[0;34m:\u001b[0m\u001b[0;34m\u001b[0m\u001b[0;34m\u001b[0m\u001b[0m\n\u001b[0;32m--> 330\u001b[0;31m                 raise Py4JError(\n\u001b[0m\u001b[1;32m    331\u001b[0m                     \u001b[0;34m\"An error occurred while calling {0}{1}{2}. Trace:\\n{3}\\n\"\u001b[0m\u001b[0;34m.\u001b[0m\u001b[0;34m\u001b[0m\u001b[0;34m\u001b[0m\u001b[0m\n\u001b[1;32m    332\u001b[0m                     format(target_id, \".\", name, value))\n",
      "\u001b[0;31mPy4JError\u001b[0m: An error occurred while calling o204.mode. Trace:\npy4j.Py4JException: Method mode([class java.util.HashMap]) does not exist\n\tat py4j.reflection.ReflectionEngine.getMethod(ReflectionEngine.java:318)\n\tat py4j.reflection.ReflectionEngine.getMethod(ReflectionEngine.java:326)\n\tat py4j.Gateway.invoke(Gateway.java:274)\n\tat py4j.commands.AbstractCommand.invokeMethod(AbstractCommand.java:132)\n\tat py4j.commands.CallCommand.execute(CallCommand.java:79)\n\tat py4j.GatewayConnection.run(GatewayConnection.java:238)\n\tat java.lang.Thread.run(Thread.java:750)\n\n"
     ]
    }
   ],
   "source": [
    "# Writing\n",
    "\n",
    "from consultant.tools.basic import get_jdbc_url_for_gp, get_properies_for_gp\n",
    "\n",
    "# import importlib\n",
    "# import consultant.tools.basic as module\n",
    "\n",
    "# importlib.reload(module)\n",
    "\n",
    "# print(get_properies_for_gp())\n",
    "# print(get_jdbc_url_for_gp())\n",
    "\n",
    "prepared_currency.write.mode('overwrite').jdbc(\n",
    "    get_jdbc_url_for_gp(),\n",
    "    'b.kustov.currency_rate',\n",
    "    get_properies_for_gp()\n",
    ")"
   ]
  },
  {
   "cell_type": "code",
   "execution_count": 12,
   "metadata": {},
   "outputs": [],
   "source": [
    "spark.stop()"
   ]
  }
 ],
 "metadata": {
  "kernelspec": {
   "display_name": "base",
   "language": "python",
   "name": "python3"
  },
  "language_info": {
   "codemirror_mode": {
    "name": "ipython",
    "version": 3
   },
   "file_extension": ".py",
   "mimetype": "text/x-python",
   "name": "python",
   "nbconvert_exporter": "python",
   "pygments_lexer": "ipython3",
   "version": "3.8.10"
  }
 },
 "nbformat": 4,
 "nbformat_minor": 2
}
