{
 "cells": [
  {
   "cell_type": "code",
   "execution_count": 2,
   "metadata": {},
   "outputs": [
    {
     "data": {
      "text/html": [
       "\n",
       "            <div>\n",
       "                <p><b>SparkSession - hive</b></p>\n",
       "                \n",
       "        <div>\n",
       "            <p><b>SparkContext</b></p>\n",
       "\n",
       "            <p><a href=\"http://rc1a-dataproc-d-axqtaawa23zwipk0.mdb.yandexcloud.net:4040\">Spark UI</a></p>\n",
       "\n",
       "            <dl>\n",
       "              <dt>Version</dt>\n",
       "                <dd><code>v3.0.3</code></dd>\n",
       "              <dt>Master</dt>\n",
       "                <dd><code>yarn</code></dd>\n",
       "              <dt>AppName</dt>\n",
       "                <dd><code>cbr_currency_etl</code></dd>\n",
       "            </dl>\n",
       "        </div>\n",
       "        \n",
       "            </div>\n",
       "        "
      ],
      "text/plain": [
       "<pyspark.sql.session.SparkSession at 0x7f10f89ab640>"
      ]
     },
     "execution_count": 2,
     "metadata": {},
     "output_type": "execute_result"
    }
   ],
   "source": [
    "from pyspark.sql import SparkSession\n",
    "from pyspark.sql.functions  import *\n",
    "from pyspark.sql.types import StructField, StructType, StructType, IntegerType, FloatType, DateType, StringType\n",
    "from pyspark.sql import Row\n",
    "\n",
    "from dotenv import load_dotenv\n",
    "import sys\n",
    "import os\n",
    "import datetime\n",
    "# Добавляем корневую директорию проекта в sys.path\n",
    "sys.path.append(os.path.abspath(os.path.join(os.getcwd(), '../..')))\n",
    "\n",
    "load_dotenv()\n",
    "\n",
    "\n",
    "spark = (SparkSession.builder\n",
    "         .appName(\"cbr_currency_etl\")\n",
    "         .getOrCreate())\n",
    "\n",
    "spark"
   ]
  },
  {
   "cell_type": "code",
   "execution_count": null,
   "metadata": {},
   "outputs": [
    {
     "name": "stdout",
     "output_type": "stream",
     "text": [
      "['/user/b.kustov/', 'raw_data/', 'cbr/', 'cbr_currency_2025-01-16']\n",
      "path='/user/b.kustov/raw_data/cbr/cbr_currency_2025-01-16'\n",
      "hdfs://172.17.0.23//user/b.kustov/raw_data/cbr/cbr_currency_2025-01-16\n"
     ]
    }
   ],
   "source": [
    "from consultant.extractors.base import get_cbr_currency_rate_json\n",
    "\n",
    "\n",
    "currency_list = list(get_cbr_currency_rate_json()['Valute'].values())\n",
    "rows = [Row(**currency) for currency in currency_list]\n",
    "\n",
    "raw_currency = spark.createDataFrame(rows)\n",
    "\n",
    "raw_currency.show(100, truncate=False)\n",
    "\n"
   ]
  },
  {
   "cell_type": "code",
   "execution_count": 21,
   "metadata": {},
   "outputs": [
    {
     "name": "stdout",
     "output_type": "stream",
     "text": [
      "root\n",
      " |-- code_iso: string (nullable = true)\n",
      " |-- nominal: integer (nullable = true)\n",
      " |-- rate: float (nullable = true)\n",
      " |-- unit_rate: float (nullable = true)\n",
      " |-- on_date: date (nullable = false)\n",
      "\n",
      "+--------+-------+--------+----------+----------+\n",
      "|code_iso|nominal|rate    |unit_rate |on_date   |\n",
      "+--------+-------+--------+----------+----------+\n",
      "|AUD     |1      |63.6894 |63.6894   |2025-01-15|\n",
      "|AZN     |1      |60.4752 |60.4752   |2025-01-15|\n",
      "|GBP     |1      |125.4358|125.4358  |2025-01-15|\n",
      "|AMD     |100    |25.8253 |0.258253  |2025-01-15|\n",
      "|BYN     |1      |29.5926 |29.5926   |2025-01-15|\n",
      "|BGN     |1      |53.8526 |53.8526   |2025-01-15|\n",
      "|BRL     |1      |16.946  |16.946    |2025-01-15|\n",
      "|HUF     |100    |25.7767 |0.257767  |2025-01-15|\n",
      "|VND     |10000  |42.2417 |0.00422417|2025-01-15|\n",
      "|HKD     |1      |13.2263 |13.2263   |2025-01-15|\n",
      "|GEL     |1      |36.1388 |36.1388   |2025-01-15|\n",
      "|DKK     |1      |14.1175 |14.1175   |2025-01-15|\n",
      "|AED     |1      |27.994  |27.994    |2025-01-15|\n",
      "|USD     |1      |102.8078|102.8078  |2025-01-15|\n",
      "|EUR     |1      |106.0971|106.0971  |2025-01-15|\n",
      "|EGP     |10     |20.3831 |2.03831   |2025-01-15|\n",
      "|INR     |10     |11.8852 |1.18852   |2025-01-15|\n",
      "|IDR     |10000  |63.208  |0.0063208 |2025-01-15|\n",
      "|KZT     |100    |19.3889 |0.193889  |2025-01-15|\n",
      "|CAD     |1      |71.5384 |71.5384   |2025-01-15|\n",
      "|QAR     |1      |28.2439 |28.2439   |2025-01-15|\n",
      "|KGS     |10     |11.7563 |1.17563   |2025-01-15|\n",
      "|CNY     |1      |13.9197 |13.9197   |2025-01-15|\n",
      "|MDL     |10     |54.6533 |5.46533   |2025-01-15|\n",
      "|NZD     |1      |57.5724 |57.5724   |2025-01-15|\n",
      "|NOK     |10     |89.8732 |8.98732   |2025-01-15|\n",
      "|PLN     |1      |24.8749 |24.8749   |2025-01-15|\n",
      "|RON     |1      |21.3003 |21.3003   |2025-01-15|\n",
      "|XDR     |1      |133.1351|133.1351  |2025-01-15|\n",
      "|SGD     |1      |75.1299 |75.1299   |2025-01-15|\n",
      "|TJS     |10     |93.9167 |9.39167   |2025-01-15|\n",
      "|THB     |10     |29.5816 |2.95816   |2025-01-15|\n",
      "|TRY     |10     |28.9917 |2.89917   |2025-01-15|\n",
      "|TMT     |1      |29.3737 |29.3737   |2025-01-15|\n",
      "|UZS     |10000  |79.2597 |0.00792597|2025-01-15|\n",
      "|UAH     |10     |24.3197 |2.43197   |2025-01-15|\n",
      "|CZK     |10     |41.6698 |4.16698   |2025-01-15|\n",
      "|SEK     |10     |91.4929 |9.14929   |2025-01-15|\n",
      "|CHF     |1      |112.7526|112.7526  |2025-01-15|\n",
      "|RSD     |100    |90.3841 |0.903841  |2025-01-15|\n",
      "|ZAR     |10     |54.4271 |5.44271   |2025-01-15|\n",
      "|KRW     |1000   |70.2575 |0.0702575 |2025-01-15|\n",
      "|JPY     |100    |65.0518 |0.650518  |2025-01-15|\n",
      "+--------+-------+--------+----------+----------+\n",
      "\n"
     ]
    }
   ],
   "source": [
    "df = raw_currency \\\n",
    "    .withColumn('VunitRate', col('Value') / col('Nominal')) \\\n",
    "    .withColumn('ValCursDate', lit(datetime.date.today() - datetime.timedelta(days=1))) \\\n",
    "    .select(['CharCode', 'Nominal', 'Value', 'VunitRate', 'ValCursDate'])\n",
    "\n",
    "new_df = df.select(\n",
    "    col(\"CharCode\").alias(\"code_iso\"),\n",
    "    col(\"Nominal\").cast(\"int\").alias(\"nominal\"),\n",
    "    col(\"Value\").cast(\"float\").alias(\"rate\"),\n",
    "    col(\"VunitRate\").cast(\"float\").alias(\"unit_rate\"),\n",
    "    col(\"ValCursDate\").cast(\"date\").alias(\"on_date\")\n",
    ")\n",
    "\n",
    "\n",
    "new_df.printSchema()\n",
    "new_df.show(100, truncate=False)\n"
   ]
  },
  {
   "cell_type": "code",
   "execution_count": 22,
   "metadata": {},
   "outputs": [
    {
     "name": "stdout",
     "output_type": "stream",
     "text": [
      "{'user': 'wave12_user_a5', 'password': 'pass', 'driver': 'org.postgresql.Driver'}\n",
      "jdbc:postgresql://172.17.1.32:5432/wave12_team_a\n"
     ]
    }
   ],
   "source": [
    "# Writing to GreenPlum\n",
    "\n",
    "from consultant.tools.basic import get_jdbc_url_for_gp, get_properies_for_gp\n",
    "\n",
    "# import importlib\n",
    "# import consultant.tools.basic as module\n",
    "\n",
    "# importlib.reload(module)\n",
    "\n",
    "print(get_properies_for_gp())\n",
    "print(get_jdbc_url_for_gp())\n",
    "\n",
    "new_df.write.jdbc(\n",
    "    url=get_jdbc_url_for_gp(),\n",
    "    table='b_kustov.currency_rate',\n",
    "    properties=get_properies_for_gp(),\n",
    "    mode='append'\n",
    ")"
   ]
  },
  {
   "cell_type": "code",
   "execution_count": null,
   "metadata": {},
   "outputs": [],
   "source": [
    "# Writing to hdfs\n",
    "\n",
    "from consultant.tools.basic import get_hdfs_url\n",
    "\n",
    "path = [os.getenv('INPUT_DIR'), 'cbr/']\n",
    "hdfs_url = get_hdfs_url('cbr_currency', True, *path)\n",
    "\n",
    "\n",
    "raw_currency \\\n",
    "    .write.mode('overwrite') \\\n",
    "    .json(hdfs_url)"
   ]
  },
  {
   "cell_type": "code",
   "execution_count": 5,
   "metadata": {},
   "outputs": [],
   "source": [
    "spark.stop()"
   ]
  }
 ],
 "metadata": {
  "kernelspec": {
   "display_name": "base",
   "language": "python",
   "name": "python3"
  },
  "language_info": {
   "codemirror_mode": {
    "name": "ipython",
    "version": 3
   },
   "file_extension": ".py",
   "mimetype": "text/x-python",
   "name": "python",
   "nbconvert_exporter": "python",
   "pygments_lexer": "ipython3",
   "version": "3.8.10"
  }
 },
 "nbformat": 4,
 "nbformat_minor": 2
}
