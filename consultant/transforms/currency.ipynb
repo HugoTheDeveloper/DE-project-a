{
 "cells": [
  {
   "cell_type": "code",
   "execution_count": 4,
   "metadata": {},
   "outputs": [
    {
     "data": {
      "text/html": [
       "\n",
       "            <div>\n",
       "                <p><b>SparkSession - hive</b></p>\n",
       "                \n",
       "        <div>\n",
       "            <p><b>SparkContext</b></p>\n",
       "\n",
       "            <p><a href=\"http://rc1a-dataproc-d-axqtaawa23zwipk0.mdb.yandexcloud.net:4040\">Spark UI</a></p>\n",
       "\n",
       "            <dl>\n",
       "              <dt>Version</dt>\n",
       "                <dd><code>v3.0.3</code></dd>\n",
       "              <dt>Master</dt>\n",
       "                <dd><code>yarn</code></dd>\n",
       "              <dt>AppName</dt>\n",
       "                <dd><code>cbr_currency_etl</code></dd>\n",
       "            </dl>\n",
       "        </div>\n",
       "        \n",
       "            </div>\n",
       "        "
      ],
      "text/plain": [
       "<pyspark.sql.session.SparkSession at 0x7fa48e3f58b0>"
      ]
     },
     "execution_count": 4,
     "metadata": {},
     "output_type": "execute_result"
    }
   ],
   "source": [
    "from pyspark.sql import SparkSession\n",
    "from pyspark.sql.functions  import *\n",
    "from pyspark.sql.types import StructField, StructType, StructType, IntegerType, FloatType, DateType, StringType\n",
    "\n",
    "from dotenv import load_dotenv\n",
    "import sys\n",
    "import os\n",
    "import datetime\n",
    "# Добавляем корневую директорию проекта в sys.path\n",
    "sys.path.append(os.path.abspath(os.path.join(os.getcwd(), '../..')))\n",
    "\n",
    "load_dotenv()\n",
    "\n",
    "spark = (SparkSession.builder\n",
    "         .appName(\"cbr_currency_etl\")\n",
    "         .getOrCreate())\n",
    "\n",
    "spark"
   ]
  },
  {
   "cell_type": "code",
   "execution_count": 2,
   "metadata": {},
   "outputs": [
    {
     "name": "stderr",
     "output_type": "stream",
     "text": [
      "/home/b.kustov/.local/lib/python3.8/site-packages/pyspark/sql/session.py:381: UserWarning: inferring schema from dict is deprecated,please use pyspark.sql.Row instead\n",
      "  warnings.warn(\"inferring schema from dict is deprecated,\"\n"
     ]
    },
    {
     "name": "stdout",
     "output_type": "stream",
     "text": [
      "+--------+-------+-------------------------------------+-------+-------+--------+--------+\n",
      "|CharCode|ID     |Name                                 |Nominal|NumCode|Previous|Value   |\n",
      "+--------+-------+-------------------------------------+-------+-------+--------+--------+\n",
      "|AUD     |R01010 |Австралийский доллар                 |1      |036    |64.0178 |63.6894 |\n",
      "|AZN     |R01020A|Азербайджанский манат                |1      |944    |60.8459 |60.4752 |\n",
      "|GBP     |R01035 |Фунт стерлингов                      |1      |826    |125.6979|125.4358|\n",
      "|AMD     |R01060 |Армянских драмов                     |100    |051    |26.0038 |25.8253 |\n",
      "|BYN     |R01090B|Белорусский рубль                    |1      |933    |29.5681 |29.5926 |\n",
      "|BGN     |R01100 |Болгарский лев                       |1      |975    |53.9341 |53.8526 |\n",
      "|BRL     |R01115 |Бразильский реал                     |1      |986    |16.9359 |16.946  |\n",
      "|HUF     |R01135 |Форинтов                             |100    |348    |25.7347 |25.7767 |\n",
      "|VND     |R01150 |Донгов                               |10000  |704    |42.4867 |42.2417 |\n",
      "|HKD     |R01200 |Гонконгский доллар                   |1      |344    |13.3091 |13.2263 |\n",
      "|GEL     |R01210 |Лари                                 |1      |981    |36.5609 |36.1388 |\n",
      "|DKK     |R01215 |Датская крона                        |1      |208    |14.1392 |14.1175 |\n",
      "|AED     |R01230 |Дирхам ОАЭ                           |1      |784    |28.1656 |27.994  |\n",
      "|USD     |R01235 |Доллар США                           |1      |840    |103.438 |102.8078|\n",
      "|EUR     |R01239 |Евро                                 |1      |978    |106.2493|106.0971|\n",
      "|EGP     |R01240 |Египетских фунтов                    |10     |818    |20.477  |20.3831 |\n",
      "|INR     |R01270 |Индийских рупий                      |10     |356    |11.9513 |11.8852 |\n",
      "|IDR     |R01280 |Рупий                                |10000  |360    |63.533  |63.208  |\n",
      "|KZT     |R01335 |Тенге                                |100    |398    |19.5713 |19.3889 |\n",
      "|CAD     |R01350 |Канадский доллар                     |1      |124    |71.7771 |71.5384 |\n",
      "|QAR     |R01355 |Катарский риал                       |1      |634    |28.417  |28.2439 |\n",
      "|KGS     |R01370 |Сомов                                |10     |417    |11.8282 |11.7563 |\n",
      "|CNY     |R01375 |Юань                                 |1      |156    |13.9486 |13.9197 |\n",
      "|MDL     |R01500 |Молдавских леев                      |10     |498    |54.6707 |54.6533 |\n",
      "|NZD     |R01530 |Новозеландский доллар                |1      |554    |57.9046 |57.5724 |\n",
      "|NOK     |R01535 |Норвежских крон                      |10     |578    |90.0894 |89.8732 |\n",
      "|PLN     |R01565 |Злотый                               |1      |985    |24.8303 |24.8749 |\n",
      "|RON     |R01585F|Румынский лей                        |1      |946    |21.3314 |21.3003 |\n",
      "|XDR     |R01589 |СДР (специальные права заимствования)|1      |960    |133.6512|133.1351|\n",
      "|SGD     |R01625 |Сингапурский доллар                  |1      |702    |75.4967 |75.1299 |\n",
      "|TJS     |R01670 |Сомони                               |10     |972    |94.5088 |93.9167 |\n",
      "|THB     |R01675 |Батов                                |10     |764    |29.8152 |29.5816 |\n",
      "|TRY     |R01700J|Турецких лир                         |10     |949    |29.1772 |28.9917 |\n",
      "|TMT     |R01710A|Новый туркменский манат              |1      |934    |29.5537 |29.3737 |\n",
      "|UZS     |R01717 |Узбекских сумов                      |10000  |860    |79.7389 |79.2597 |\n",
      "|UAH     |R01720 |Гривен                               |10     |980    |24.4712 |24.3197 |\n",
      "|CZK     |R01760 |Чешских крон                         |10     |203    |41.8185 |41.6698 |\n",
      "|SEK     |R01770 |Шведских крон                        |10     |752    |91.6832 |91.4929 |\n",
      "|CHF     |R01775 |Швейцарский франк                    |1      |756    |112.9359|112.7526|\n",
      "|RSD     |R01805F|Сербских динаров                     |100    |941    |90.4984 |90.3841 |\n",
      "|ZAR     |R01810 |Рэндов                               |10     |710    |54.5689 |54.4271 |\n",
      "|KRW     |R01815 |Вон                                  |1000   |410    |70.3038 |70.2575 |\n",
      "|JPY     |R01820 |Иен                                  |100    |392    |65.6582 |65.0518 |\n",
      "+--------+-------+-------------------------------------+-------+-------+--------+--------+\n",
      "\n"
     ]
    }
   ],
   "source": [
    "from consultant.extractors.base import get_cbr_currency_rate_json\n",
    "\n",
    "\n",
    "\n",
    "currency_list = list(get_cbr_currency_rate_json()['Valute'].values())\n",
    "\n",
    "raw_currency = spark.createDataFrame(currency_list)\n",
    "raw_currency.show(100, truncate=False)"
   ]
  },
  {
   "cell_type": "code",
   "execution_count": 21,
   "metadata": {},
   "outputs": [
    {
     "name": "stdout",
     "output_type": "stream",
     "text": [
      "root\n",
      " |-- code_iso: string (nullable = true)\n",
      " |-- nominal: integer (nullable = true)\n",
      " |-- rate: float (nullable = true)\n",
      " |-- unit_rate: float (nullable = true)\n",
      " |-- on_date: date (nullable = false)\n",
      "\n",
      "+--------+-------+--------+----------+----------+\n",
      "|code_iso|nominal|rate    |unit_rate |on_date   |\n",
      "+--------+-------+--------+----------+----------+\n",
      "|AUD     |1      |63.6894 |63.6894   |2025-01-15|\n",
      "|AZN     |1      |60.4752 |60.4752   |2025-01-15|\n",
      "|GBP     |1      |125.4358|125.4358  |2025-01-15|\n",
      "|AMD     |100    |25.8253 |0.258253  |2025-01-15|\n",
      "|BYN     |1      |29.5926 |29.5926   |2025-01-15|\n",
      "|BGN     |1      |53.8526 |53.8526   |2025-01-15|\n",
      "|BRL     |1      |16.946  |16.946    |2025-01-15|\n",
      "|HUF     |100    |25.7767 |0.257767  |2025-01-15|\n",
      "|VND     |10000  |42.2417 |0.00422417|2025-01-15|\n",
      "|HKD     |1      |13.2263 |13.2263   |2025-01-15|\n",
      "|GEL     |1      |36.1388 |36.1388   |2025-01-15|\n",
      "|DKK     |1      |14.1175 |14.1175   |2025-01-15|\n",
      "|AED     |1      |27.994  |27.994    |2025-01-15|\n",
      "|USD     |1      |102.8078|102.8078  |2025-01-15|\n",
      "|EUR     |1      |106.0971|106.0971  |2025-01-15|\n",
      "|EGP     |10     |20.3831 |2.03831   |2025-01-15|\n",
      "|INR     |10     |11.8852 |1.18852   |2025-01-15|\n",
      "|IDR     |10000  |63.208  |0.0063208 |2025-01-15|\n",
      "|KZT     |100    |19.3889 |0.193889  |2025-01-15|\n",
      "|CAD     |1      |71.5384 |71.5384   |2025-01-15|\n",
      "|QAR     |1      |28.2439 |28.2439   |2025-01-15|\n",
      "|KGS     |10     |11.7563 |1.17563   |2025-01-15|\n",
      "|CNY     |1      |13.9197 |13.9197   |2025-01-15|\n",
      "|MDL     |10     |54.6533 |5.46533   |2025-01-15|\n",
      "|NZD     |1      |57.5724 |57.5724   |2025-01-15|\n",
      "|NOK     |10     |89.8732 |8.98732   |2025-01-15|\n",
      "|PLN     |1      |24.8749 |24.8749   |2025-01-15|\n",
      "|RON     |1      |21.3003 |21.3003   |2025-01-15|\n",
      "|XDR     |1      |133.1351|133.1351  |2025-01-15|\n",
      "|SGD     |1      |75.1299 |75.1299   |2025-01-15|\n",
      "|TJS     |10     |93.9167 |9.39167   |2025-01-15|\n",
      "|THB     |10     |29.5816 |2.95816   |2025-01-15|\n",
      "|TRY     |10     |28.9917 |2.89917   |2025-01-15|\n",
      "|TMT     |1      |29.3737 |29.3737   |2025-01-15|\n",
      "|UZS     |10000  |79.2597 |0.00792597|2025-01-15|\n",
      "|UAH     |10     |24.3197 |2.43197   |2025-01-15|\n",
      "|CZK     |10     |41.6698 |4.16698   |2025-01-15|\n",
      "|SEK     |10     |91.4929 |9.14929   |2025-01-15|\n",
      "|CHF     |1      |112.7526|112.7526  |2025-01-15|\n",
      "|RSD     |100    |90.3841 |0.903841  |2025-01-15|\n",
      "|ZAR     |10     |54.4271 |5.44271   |2025-01-15|\n",
      "|KRW     |1000   |70.2575 |0.0702575 |2025-01-15|\n",
      "|JPY     |100    |65.0518 |0.650518  |2025-01-15|\n",
      "+--------+-------+--------+----------+----------+\n",
      "\n"
     ]
    }
   ],
   "source": [
    "df = raw_currency \\\n",
    "    .withColumn('VunitRate', col('Value') / col('Nominal')) \\\n",
    "    .withColumn('ValCursDate', lit(datetime.date.today() - datetime.timedelta(days=1))) \\\n",
    "    .select(['CharCode', 'Nominal', 'Value', 'VunitRate', 'ValCursDate'])\n",
    "\n",
    "new_schema = StructType([\n",
    "    StructField('code_iso', StringType()),\n",
    "    StructField('nominal', IntegerType()),\n",
    "    StructField('rate', FloatType()),\n",
    "    StructField('unit_rate', FloatType()),\n",
    "    StructField('on_date', DateType())\n",
    "])\n",
    "\n",
    "new_df = df.select(\n",
    "    col(\"CharCode\").alias(\"code_iso\"),\n",
    "    col(\"Nominal\").cast(\"int\").alias(\"nominal\"),\n",
    "    col(\"Value\").cast(\"float\").alias(\"rate\"),\n",
    "    col(\"VunitRate\").cast(\"float\").alias(\"unit_rate\"),\n",
    "    col(\"ValCursDate\").cast(\"date\").alias(\"on_date\")\n",
    ")\n",
    "\n",
    "\n",
    "new_df.printSchema()\n",
    "new_df.show(100, truncate=False)\n"
   ]
  },
  {
   "cell_type": "code",
   "execution_count": 22,
   "metadata": {},
   "outputs": [
    {
     "name": "stdout",
     "output_type": "stream",
     "text": [
      "{'user': 'wave12_user_a5', 'password': 'pass', 'driver': 'org.postgresql.Driver'}\n",
      "jdbc:postgresql://172.17.1.32:5432/wave12_team_a\n"
     ]
    }
   ],
   "source": [
    "# Writing\n",
    "\n",
    "from consultant.tools.basic import get_jdbc_url_for_gp, get_properies_for_gp\n",
    "\n",
    "# import importlib\n",
    "# import consultant.tools.basic as module\n",
    "\n",
    "# importlib.reload(module)\n",
    "\n",
    "print(get_properies_for_gp())\n",
    "print(get_jdbc_url_for_gp())\n",
    "\n",
    "new_df.write.jdbc(\n",
    "    url=get_jdbc_url_for_gp(),\n",
    "    table='b_kustov.currency_rate',\n",
    "    properties=get_properies_for_gp(),\n",
    "    mode='append'\n",
    ")"
   ]
  },
  {
   "cell_type": "code",
   "execution_count": 1,
   "metadata": {},
   "outputs": [
    {
     "ename": "NameError",
     "evalue": "name 'spark' is not defined",
     "output_type": "error",
     "traceback": [
      "\u001b[0;31m---------------------------------------------------------------------------\u001b[0m",
      "\u001b[0;31mNameError\u001b[0m                                 Traceback (most recent call last)",
      "\u001b[0;32m<ipython-input-1-5c6b4d5d9db0>\u001b[0m in \u001b[0;36m<module>\u001b[0;34m\u001b[0m\n\u001b[0;32m----> 1\u001b[0;31m \u001b[0mspark\u001b[0m\u001b[0;34m.\u001b[0m\u001b[0mstop\u001b[0m\u001b[0;34m(\u001b[0m\u001b[0;34m)\u001b[0m\u001b[0;34m\u001b[0m\u001b[0;34m\u001b[0m\u001b[0m\n\u001b[0m",
      "\u001b[0;31mNameError\u001b[0m: name 'spark' is not defined"
     ]
    }
   ],
   "source": [
    "spark.stop()"
   ]
  }
 ],
 "metadata": {
  "kernelspec": {
   "display_name": "base",
   "language": "python",
   "name": "python3"
  },
  "language_info": {
   "codemirror_mode": {
    "name": "ipython",
    "version": 3
   },
   "file_extension": ".py",
   "mimetype": "text/x-python",
   "name": "python",
   "nbconvert_exporter": "python",
   "pygments_lexer": "ipython3",
   "version": "3.8.10"
  }
 },
 "nbformat": 4,
 "nbformat_minor": 2
}
